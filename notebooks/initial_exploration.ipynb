{
 "cells": [
  {
   "cell_type": "markdown",
   "metadata": {},
   "source": [
    "# Fantasy Football Data Exploration\n",
    "\n",
    "Initial exploration of fantasy football data for draft optimization."
   ]
  },
  {
   "cell_type": "code",
   "execution_count": 1,
   "metadata": {},
   "outputs": [],
   "source": [
    "from espn_api.football import League\n",
    "\n",
    "LEAGUE_ID = 697625923  # Your ESPN fantasy league ID\n",
    "LEAGUE_YEAR = 2024  # The year to analyze\n",
    "\n",
    "# ESPN Credentials (required for private leagues)\n",
    "ESPN_S2 = \"AECeHAkR7FZuTvVWSEnMRIA29wVeroZhvd7fHHy5tZvIUdIp4XIZaglA17V6g2rulDDFMCUiC%2BpeXNqWzEJTpjTJsz5Zv2DTMOIjeX0JrC6CYs8kDidYeF0HHkI78OG2O%2Bs6f%2FUPVSwXRBZEGMKPDdKl%2BE0a7na225JN4bC80tD9RXFv32kqqtEk%2Bgw1hgQ968ARiAdt69axAvjryW57rj58sYK4oMJPxjtPbh9tATi%2BSI2AmQ0dNPXZfRTA%2FFgCtgzyxWNwbKT2boYeDfFe7rm8idW47lnavsfYGwWjVpddVY6%2BcupF7uoc9AeVFQ5xNUY%3D\"  # Your ESPN_S2 cookie value\n",
    "SWID = \"{42614A28-F6F5-4052-A14A-28F6F52052AF}\"  # Your SWID cookie value "
   ]
  },
  {
   "cell_type": "code",
   "execution_count": 2,
   "metadata": {},
   "outputs": [],
   "source": [
    "league = League(league_id=LEAGUE_ID, year=LEAGUE_YEAR, espn_s2=ESPN_S2, swid=SWID)"
   ]
  },
  {
   "cell_type": "code",
   "execution_count": 6,
   "metadata": {},
   "outputs": [
    {
     "data": {
      "text/plain": [
       "{'QB': 1,\n",
       " 'TQB': 0,\n",
       " 'RB': 2,\n",
       " 'RB/WR': 0,\n",
       " 'WR': 3,\n",
       " 'WR/TE': 0,\n",
       " 'TE': 1,\n",
       " 'OP': 1,\n",
       " 'DT': 0,\n",
       " 'DE': 0,\n",
       " 'LB': 0,\n",
       " 'DL': 0,\n",
       " 'CB': 0,\n",
       " 'S': 0,\n",
       " 'DB': 0,\n",
       " 'DP': 0,\n",
       " 'D/ST': 0,\n",
       " 'K': 0,\n",
       " 'P': 0,\n",
       " 'HC': 0,\n",
       " 'BE': 8,\n",
       " 'IR': 1,\n",
       " '': 0,\n",
       " 'RB/WR/TE': 2,\n",
       " 'ER': 0}"
      ]
     },
     "execution_count": 6,
     "metadata": {},
     "output_type": "execute_result"
    }
   ],
   "source": [
    "league.settings.position_slot_counts"
   ]
  },
  {
   "cell_type": "code",
   "execution_count": 5,
   "metadata": {},
   "outputs": [
    {
     "data": {
      "text/plain": [
       "['__class__',\n",
       " '__delattr__',\n",
       " '__dict__',\n",
       " '__dir__',\n",
       " '__doc__',\n",
       " '__eq__',\n",
       " '__format__',\n",
       " '__ge__',\n",
       " '__getattribute__',\n",
       " '__getstate__',\n",
       " '__gt__',\n",
       " '__hash__',\n",
       " '__init__',\n",
       " '__init_subclass__',\n",
       " '__le__',\n",
       " '__lt__',\n",
       " '__module__',\n",
       " '__ne__',\n",
       " '__new__',\n",
       " '__reduce__',\n",
       " '__reduce_ex__',\n",
       " '__repr__',\n",
       " '__setattr__',\n",
       " '__sizeof__',\n",
       " '__str__',\n",
       " '__subclasshook__',\n",
       " '__weakref__',\n",
       " 'acquisition_budget',\n",
       " 'division_map',\n",
       " 'faab',\n",
       " 'keeper_count',\n",
       " 'matchup_periods',\n",
       " 'name',\n",
       " 'playoff_matchup_period_length',\n",
       " 'playoff_seed_tie_rule',\n",
       " 'playoff_team_count',\n",
       " 'playoff_tie_rule',\n",
       " 'position_slot_counts',\n",
       " 'reg_season_count',\n",
       " 'scoring_format',\n",
       " 'scoring_type',\n",
       " 'team_count',\n",
       " 'tie_rule',\n",
       " 'trade_deadline',\n",
       " 'veto_votes_required']"
      ]
     },
     "execution_count": 5,
     "metadata": {},
     "output_type": "execute_result"
    }
   ],
   "source": [
    "dir(league.settings)"
   ]
  },
  {
   "cell_type": "code",
   "execution_count": null,
   "metadata": {},
   "outputs": [],
   "source": []
  }
 ],
 "metadata": {
  "kernelspec": {
   "display_name": ".venv",
   "language": "python",
   "name": "python3"
  },
  "language_info": {
   "codemirror_mode": {
    "name": "ipython",
    "version": 3
   },
   "file_extension": ".py",
   "mimetype": "text/x-python",
   "name": "python",
   "nbconvert_exporter": "python",
   "pygments_lexer": "ipython3",
   "version": "3.11.10"
  }
 },
 "nbformat": 4,
 "nbformat_minor": 4
}
