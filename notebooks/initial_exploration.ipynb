{
 "cells": [
  {
   "cell_type": "markdown",
   "metadata": {},
   "source": [
    "# Fantasy Football Data Exploration\n",
    "\n",
    "Initial exploration of fantasy football data for draft optimization."
   ]
  },
  {
   "cell_type": "code",
   "execution_count": 1,
   "metadata": {},
   "outputs": [],
   "source": [
    "from espn_api.football import League\n",
    "\n",
    "LEAGUE_ID = 697625923  # Your ESPN fantasy league ID\n",
    "LEAGUE_YEAR = 2024  # The year to analyze\n",
    "\n",
    "# ESPN Credentials (required for private leagues)\n",
    "ESPN_S2 = \"AECeHAkR7FZuTvVWSEnMRIA29wVeroZhvd7fHHy5tZvIUdIp4XIZaglA17V6g2rulDDFMCUiC%2BpeXNqWzEJTpjTJsz5Zv2DTMOIjeX0JrC6CYs8kDidYeF0HHkI78OG2O%2Bs6f%2FUPVSwXRBZEGMKPDdKl%2BE0a7na225JN4bC80tD9RXFv32kqqtEk%2Bgw1hgQ968ARiAdt69axAvjryW57rj58sYK4oMJPxjtPbh9tATi%2BSI2AmQ0dNPXZfRTA%2FFgCtgzyxWNwbKT2boYeDfFe7rm8idW47lnavsfYGwWjVpddVY6%2BcupF7uoc9AeVFQ5xNUY%3D\"  # Your ESPN_S2 cookie value\n",
    "SWID = \"{42614A28-F6F5-4052-A14A-28F6F52052AF}\"  # Your SWID cookie value "
   ]
  },
  {
   "cell_type": "code",
   "execution_count": 2,
   "metadata": {},
   "outputs": [],
   "source": [
    "league = League(league_id=LEAGUE_ID, year=LEAGUE_YEAR, espn_s2=ESPN_S2, swid=SWID)"
   ]
  },
  {
   "cell_type": "code",
   "execution_count": 8,
   "metadata": {},
   "outputs": [
    {
     "data": {
      "text/plain": [
       "['__abstractmethods__',\n",
       " '__class__',\n",
       " '__delattr__',\n",
       " '__dict__',\n",
       " '__dir__',\n",
       " '__doc__',\n",
       " '__eq__',\n",
       " '__format__',\n",
       " '__ge__',\n",
       " '__getattribute__',\n",
       " '__getstate__',\n",
       " '__gt__',\n",
       " '__hash__',\n",
       " '__init__',\n",
       " '__init_subclass__',\n",
       " '__le__',\n",
       " '__lt__',\n",
       " '__module__',\n",
       " '__ne__',\n",
       " '__new__',\n",
       " '__reduce__',\n",
       " '__reduce_ex__',\n",
       " '__repr__',\n",
       " '__setattr__',\n",
       " '__sizeof__',\n",
       " '__slots__',\n",
       " '__str__',\n",
       " '__subclasshook__',\n",
       " '__weakref__',\n",
       " '_abc_impl',\n",
       " '_fetch_draft',\n",
       " '_fetch_league',\n",
       " '_fetch_players',\n",
       " '_fetch_teams',\n",
       " '_get_all_pro_schedule',\n",
       " '_get_positional_ratings',\n",
       " '_get_pro_schedule',\n",
       " 'box_scores',\n",
       " 'currentMatchupPeriod',\n",
       " 'current_week',\n",
       " 'draft',\n",
       " 'espn_request',\n",
       " 'fetch_league',\n",
       " 'finalScoringPeriod',\n",
       " 'firstScoringPeriod',\n",
       " 'free_agents',\n",
       " 'get_team_data',\n",
       " 'league_id',\n",
       " 'least_scored_week',\n",
       " 'least_scorer',\n",
       " 'load_roster_week',\n",
       " 'logger',\n",
       " 'members',\n",
       " 'message_board',\n",
       " 'most_points_against',\n",
       " 'nfl_week',\n",
       " 'player_info',\n",
       " 'player_map',\n",
       " 'power_rankings',\n",
       " 'previousSeasons',\n",
       " 'recent_activity',\n",
       " 'refresh',\n",
       " 'refresh_draft',\n",
       " 'scoreboard',\n",
       " 'scoringPeriodId',\n",
       " 'settings',\n",
       " 'standings',\n",
       " 'standings_weekly',\n",
       " 'teams',\n",
       " 'top_scored_week',\n",
       " 'top_scorer',\n",
       " 'year']"
      ]
     },
     "execution_count": 8,
     "metadata": {},
     "output_type": "execute_result"
    }
   ],
   "source": [
    "dir(league)"
   ]
  },
  {
   "cell_type": "code",
   "execution_count": 14,
   "metadata": {},
   "outputs": [
    {
     "data": {
      "text/plain": [
       "Settings(Friends and Family v.2)"
      ]
     },
     "execution_count": 14,
     "metadata": {},
     "output_type": "execute_result"
    }
   ],
   "source": [
    "league.settings"
   ]
  },
  {
   "cell_type": "code",
   "execution_count": null,
   "metadata": {},
   "outputs": [],
   "source": []
  }
 ],
 "metadata": {
  "kernelspec": {
   "display_name": ".venv",
   "language": "python",
   "name": "python3"
  },
  "language_info": {
   "codemirror_mode": {
    "name": "ipython",
    "version": 3
   },
   "file_extension": ".py",
   "mimetype": "text/x-python",
   "name": "python",
   "nbconvert_exporter": "python",
   "pygments_lexer": "ipython3",
   "version": "3.11.10"
  }
 },
 "nbformat": 4,
 "nbformat_minor": 4
}
